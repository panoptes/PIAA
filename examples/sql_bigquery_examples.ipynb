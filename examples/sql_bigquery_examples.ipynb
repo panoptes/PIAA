{
 "metadata": {
  "language_info": {
   "codemirror_mode": {
    "name": "ipython",
    "version": 3
   },
   "file_extension": ".py",
   "mimetype": "text/x-python",
   "name": "python",
   "nbconvert_exporter": "python",
   "pygments_lexer": "ipython3",
   "version": "3.8.5-final"
  },
  "orig_nbformat": 2,
  "kernelspec": {
   "name": "python38564bitbaryresearchconda9141d3894f354dccb0182343fc21bfa9",
   "display_name": "Python 3.8.5 64-bit ('baryresearch': conda)"
  }
 },
 "nbformat": 4,
 "nbformat_minor": 2,
 "cells": [
  {
   "cell_type": "code",
   "execution_count": 24,
   "metadata": {},
   "outputs": [],
   "source": [
    "import pandas as pd\n",
    "\n",
    "from google.cloud import bigquery\n",
    "\n",
    "# from panoptes.pipeline.utils import processing"
   ]
  },
  {
   "cell_type": "code",
   "execution_count": 25,
   "metadata": {
    "tags": []
   },
   "outputs": [
    {
     "output_type": "stream",
     "name": "stdout",
     "text": [
      "The google.cloud.bigquery extension is already loaded. To reload it, use:\n  %reload_ext google.cloud.bigquery\n"
     ]
    }
   ],
   "source": [
    "%load_ext google.cloud.bigquery"
   ]
  },
  {
   "cell_type": "code",
   "execution_count": 26,
   "metadata": {},
   "outputs": [],
   "source": [
    "client = bigquery.Client()"
   ]
  },
  {
   "cell_type": "code",
   "execution_count": 27,
   "metadata": {
    "tags": []
   },
   "outputs": [],
   "source": [
    "# Search for an observation within 20 arcsecond radius of HD 285372 (RA: 60.854, DEC: 17.407)\n",
    "observations = \"\"\"\n",
    "SELECT picid, sequence_id, time, catalog_ra, catalog_dec, gaia, twomass, catalog_vmag, catalog_vmag_err, x_int, y_int\n",
    "FROM panoptes-exp.observations.sources\n",
    "WHERE catalog_ra BETWEEN 60.52063 AND 61.18729 AND catalog_dec BETWEEN 17.07391 AND 17.74057\n",
    "\"\"\""
   ]
  },
  {
   "cell_type": "code",
   "execution_count": 28,
   "metadata": {},
   "outputs": [],
   "source": [
    "df = client.query(observations).to_dataframe()"
   ]
  },
  {
   "cell_type": "code",
   "execution_count": null,
   "metadata": {},
   "outputs": [],
   "source": []
  }
 ]
}